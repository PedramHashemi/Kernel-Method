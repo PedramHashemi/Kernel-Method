{
 "cells": [
  {
   "cell_type": "code",
   "execution_count": 6,
   "metadata": {},
   "outputs": [],
   "source": [
    "from keras.layers import Input, Dense, Dropout\n",
    "from keras.models import Model\n",
    "from sklearn.model_selection import GridSearchCV"
   ]
  },
  {
   "cell_type": "code",
   "execution_count": 11,
   "metadata": {
    "scrolled": true
   },
   "outputs": [],
   "source": [
    "def Encoder(gene_exp_dim=112):\n",
    "    input_exp = Input(shape=(gene_exp_dim,))\n",
    "    ## making the encoding Layers\n",
    "    encoded = Dense(encoding_dim, activation='relu')(input_exp)\n",
    "    encoded.add(Dropout(dropout_size))(encoded)\n",
    "    for enc_layer in encoding_layer:\n",
    "        encoded = Dense(layer_size, activation='sigmoid')(encoded)\n",
    "        encoded = Dropout(dropout_size)(encoded)\n",
    "\n",
    "    ## making the decoding Layers\n",
    "    decoded = Dense(shape=(gene_exp_dim,), activation='sigmoid')(encoded)\n",
    "    for dec_layer in decoding_layer:\n",
    "        decoded = Dense(layer_size, activation='sigmoid')(decoded)\n",
    "        decoded = Dropout(dropout_size)(decoded)\n",
    "\n",
    "\n",
    "    autoEncoder = Model(input_exp, decoded)\n",
    "    autoEncoder.compile(optimizer='adadelta', loss='mean_squared_error', metrics=['accuracy', 'loss'])\n",
    "    return autoEncoder"
   ]
  },
  {
   "cell_type": "code",
   "execution_count": 12,
   "metadata": {},
   "outputs": [],
   "source": [
    "def grid_generator():\n",
    "    params = []\n",
    "    p = {}\n",
    "    encoding_dim = [32, 64]\n",
    "    batch_size = [16, 32, 64]\n",
    "    layer_size = [36, 24, 16, 12, 8]\n",
    "    dropout_size = [.1, .3, .5, .7]\n",
    "    dec_layer = [10, 8, 6, 4]\n",
    "    batch_size = [32, 64]\n",
    "    epoch = [epoch]\n",
    "    for ed in encoding_dim:\n",
    "        for batch_size in bs:\n",
    "            for ls in layer_size:\n",
    "                for dl in dec_layer:\n",
    "                    for ds in dropout_size:\n",
    "                        for bs in batch_size:\n",
    "                            for e in epoch:\n",
    "                                params.append({'encoding_dim': ed,\n",
    "                                               'batch_size': bs,\n",
    "                                               'layer_size': ls,\n",
    "                                               'dec_layer': dl,\n",
    "                                               'dropout_size': dropout_size,\n",
    "                                               'batch_size': bs,\n",
    "                                               'epoch': e\n",
    "                                              })\n",
    "    return param\n",
    "                    "
   ]
  },
  {
   "cell_type": "code",
   "execution_count": 13,
   "metadata": {},
   "outputs": [
    {
     "ename": "NameError",
     "evalue": "name 'autoEncoder' is not defined",
     "output_type": "error",
     "traceback": [
      "\u001b[0;31m---------------------------------------------------------------------------\u001b[0m",
      "\u001b[0;31mNameError\u001b[0m                                 Traceback (most recent call last)",
      "\u001b[0;32m<ipython-input-13-7341aed9637a>\u001b[0m in \u001b[0;36m<module>\u001b[0;34m\u001b[0m\n\u001b[0;32m----> 1\u001b[0;31m autoEncoder.fit(\n\u001b[0m\u001b[1;32m      2\u001b[0m     \u001b[0mbatch_size\u001b[0m \u001b[0;34m=\u001b[0m \u001b[0mbatch_size\u001b[0m\u001b[0;34m,\u001b[0m\u001b[0;34m\u001b[0m\u001b[0m\n\u001b[1;32m      3\u001b[0m     \u001b[0mepoch\u001b[0m \u001b[0;34m=\u001b[0m \u001b[0mepoch\u001b[0m\u001b[0;34m,\u001b[0m\u001b[0;34m\u001b[0m\u001b[0m\n\u001b[1;32m      4\u001b[0m     \u001b[0mshuffle\u001b[0m \u001b[0;34m=\u001b[0m \u001b[0;32mTrue\u001b[0m\u001b[0;34m,\u001b[0m\u001b[0;34m\u001b[0m\u001b[0m\n\u001b[1;32m      5\u001b[0m     \u001b[0mvalidation\u001b[0m \u001b[0;34m=\u001b[0m \u001b[0mval_data\u001b[0m\u001b[0;34m\u001b[0m\u001b[0m\n",
      "\u001b[0;31mNameError\u001b[0m: name 'autoEncoder' is not defined"
     ]
    }
   ],
   "source": [
    "autoEncoder.fit(\n",
    "    batch_size = batch_size,\n",
    "    epochs = epoch,\n",
    "    shuffle = True,\n",
    "    validation = val_data\n",
    ")"
   ]
  },
  {
   "cell_type": "code",
   "execution_count": null,
   "metadata": {},
   "outputs": [],
   "source": []
  }
 ],
 "metadata": {
  "kernelspec": {
   "display_name": "Python 3",
   "language": "python",
   "name": "python3"
  },
  "language_info": {
   "codemirror_mode": {
    "name": "ipython",
    "version": 3
   },
   "file_extension": ".py",
   "mimetype": "text/x-python",
   "name": "python",
   "nbconvert_exporter": "python",
   "pygments_lexer": "ipython3",
   "version": "3.6.5"
  }
 },
 "nbformat": 4,
 "nbformat_minor": 2
}
