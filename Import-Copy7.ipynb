{
 "cells": [
  {
   "cell_type": "code",
   "execution_count": 11,
   "metadata": {},
   "outputs": [],
   "source": [
    "import pandas as pd\n",
    "from sklearn.preprocessing import MinMaxScaler"
   ]
  },
  {
   "cell_type": "code",
   "execution_count": 98,
   "metadata": {},
   "outputs": [],
   "source": [
    "gtypes = pd.read_csv('data/matrix_genotypes.txt', sep='\\t')\n",
    "gExp = pd.read_csv('data/expression_matrix.txt', sep='\\t')"
   ]
  },
  {
   "cell_type": "code",
   "execution_count": null,
   "metadata": {},
   "outputs": [],
   "source": [
    "# gtypes_cols = gtypes.columns.tolist()\n",
    "# gtypes_cols.sort()\n",
    "# gtypes = gtypes[gtypes_cols]\n",
    "\n",
    "# gExp_cols = gExp.columns.tolist()\n",
    "# gExp_cols.sort()\n",
    "# gExp = gExp[gExp_cols]"
   ]
  },
  {
   "cell_type": "code",
   "execution_count": 100,
   "metadata": {},
   "outputs": [
    {
     "name": "stdout",
     "output_type": "stream",
     "text": [
      "Index(['ID', '1_1_d', '1_3_d', '1_4_d', '1_5_c', '2_2_d', '2_3_d', '2_4_a',\n",
      "       '2_5_d', '2_6_d',\n",
      "       ...\n",
      "       '22_4_d', '22_5_d', '23_3_d', '23_5_d', '24_1_d', '25_1_d', '25_3_d',\n",
      "       '25_4_d', '26_1_d', '26_2_d'],\n",
      "      dtype='object', length=113)\n",
      "RangeIndex(start=0, stop=7085, step=1)\n"
     ]
    },
    {
     "data": {
      "text/html": [
       "<div>\n",
       "<style scoped>\n",
       "    .dataframe tbody tr th:only-of-type {\n",
       "        vertical-align: middle;\n",
       "    }\n",
       "\n",
       "    .dataframe tbody tr th {\n",
       "        vertical-align: top;\n",
       "    }\n",
       "\n",
       "    .dataframe thead th {\n",
       "        text-align: right;\n",
       "    }\n",
       "</style>\n",
       "<table border=\"1\" class=\"dataframe\">\n",
       "  <thead>\n",
       "    <tr style=\"text-align: right;\">\n",
       "      <th></th>\n",
       "      <th>ID</th>\n",
       "      <th>1_1_d</th>\n",
       "      <th>1_3_d</th>\n",
       "      <th>1_4_d</th>\n",
       "      <th>1_5_c</th>\n",
       "      <th>2_2_d</th>\n",
       "      <th>2_3_d</th>\n",
       "      <th>2_4_a</th>\n",
       "      <th>2_5_d</th>\n",
       "      <th>2_6_d</th>\n",
       "      <th>...</th>\n",
       "      <th>22_4_d</th>\n",
       "      <th>22_5_d</th>\n",
       "      <th>23_3_d</th>\n",
       "      <th>23_5_d</th>\n",
       "      <th>24_1_d</th>\n",
       "      <th>25_1_d</th>\n",
       "      <th>25_3_d</th>\n",
       "      <th>25_4_d</th>\n",
       "      <th>26_1_d</th>\n",
       "      <th>26_2_d</th>\n",
       "    </tr>\n",
       "  </thead>\n",
       "  <tbody>\n",
       "    <tr>\n",
       "      <th>0</th>\n",
       "      <td>0</td>\n",
       "      <td>0.193596</td>\n",
       "      <td>0.073614</td>\n",
       "      <td>-0.029516</td>\n",
       "      <td>0.242779</td>\n",
       "      <td>0.080216</td>\n",
       "      <td>0.190502</td>\n",
       "      <td>0.148879</td>\n",
       "      <td>-0.006213</td>\n",
       "      <td>-0.001838</td>\n",
       "      <td>...</td>\n",
       "      <td>0.047797</td>\n",
       "      <td>-0.033840</td>\n",
       "      <td>-0.589592</td>\n",
       "      <td>0.059738</td>\n",
       "      <td>0.176352</td>\n",
       "      <td>0.340129</td>\n",
       "      <td>0.045428</td>\n",
       "      <td>0.043563</td>\n",
       "      <td>0.233465</td>\n",
       "      <td>0.056853</td>\n",
       "    </tr>\n",
       "    <tr>\n",
       "      <th>1</th>\n",
       "      <td>1</td>\n",
       "      <td>0.421468</td>\n",
       "      <td>0.364783</td>\n",
       "      <td>-0.055167</td>\n",
       "      <td>0.154739</td>\n",
       "      <td>0.366766</td>\n",
       "      <td>0.236360</td>\n",
       "      <td>0.296089</td>\n",
       "      <td>0.058330</td>\n",
       "      <td>0.011517</td>\n",
       "      <td>...</td>\n",
       "      <td>0.129272</td>\n",
       "      <td>0.160250</td>\n",
       "      <td>0.425646</td>\n",
       "      <td>0.220291</td>\n",
       "      <td>0.099491</td>\n",
       "      <td>0.405890</td>\n",
       "      <td>0.040568</td>\n",
       "      <td>0.052593</td>\n",
       "      <td>0.593716</td>\n",
       "      <td>0.168497</td>\n",
       "    </tr>\n",
       "    <tr>\n",
       "      <th>2</th>\n",
       "      <td>2</td>\n",
       "      <td>0.532818</td>\n",
       "      <td>-0.418089</td>\n",
       "      <td>0.524365</td>\n",
       "      <td>-0.087390</td>\n",
       "      <td>0.758338</td>\n",
       "      <td>-0.096036</td>\n",
       "      <td>-1.653630</td>\n",
       "      <td>-0.244114</td>\n",
       "      <td>0.277910</td>\n",
       "      <td>...</td>\n",
       "      <td>-0.097825</td>\n",
       "      <td>0.172960</td>\n",
       "      <td>-0.210180</td>\n",
       "      <td>-0.075213</td>\n",
       "      <td>0.198422</td>\n",
       "      <td>0.469589</td>\n",
       "      <td>0.222343</td>\n",
       "      <td>0.069883</td>\n",
       "      <td>-0.089867</td>\n",
       "      <td>-0.078562</td>\n",
       "    </tr>\n",
       "    <tr>\n",
       "      <th>3</th>\n",
       "      <td>3</td>\n",
       "      <td>0.051546</td>\n",
       "      <td>0.190427</td>\n",
       "      <td>0.376688</td>\n",
       "      <td>0.426257</td>\n",
       "      <td>0.093418</td>\n",
       "      <td>0.280754</td>\n",
       "      <td>-0.140367</td>\n",
       "      <td>0.276582</td>\n",
       "      <td>0.224290</td>\n",
       "      <td>...</td>\n",
       "      <td>-0.014957</td>\n",
       "      <td>-0.272955</td>\n",
       "      <td>-0.627703</td>\n",
       "      <td>0.091265</td>\n",
       "      <td>0.316825</td>\n",
       "      <td>0.369651</td>\n",
       "      <td>0.283274</td>\n",
       "      <td>0.102358</td>\n",
       "      <td>0.078381</td>\n",
       "      <td>0.278953</td>\n",
       "    </tr>\n",
       "    <tr>\n",
       "      <th>4</th>\n",
       "      <td>4</td>\n",
       "      <td>0.132558</td>\n",
       "      <td>0.231792</td>\n",
       "      <td>0.295131</td>\n",
       "      <td>0.469083</td>\n",
       "      <td>0.623783</td>\n",
       "      <td>0.228012</td>\n",
       "      <td>-0.136607</td>\n",
       "      <td>0.027569</td>\n",
       "      <td>0.253613</td>\n",
       "      <td>...</td>\n",
       "      <td>0.037735</td>\n",
       "      <td>-0.102276</td>\n",
       "      <td>0.254963</td>\n",
       "      <td>-0.103942</td>\n",
       "      <td>0.363442</td>\n",
       "      <td>-0.033324</td>\n",
       "      <td>-0.149047</td>\n",
       "      <td>0.212029</td>\n",
       "      <td>-0.014357</td>\n",
       "      <td>-0.072302</td>\n",
       "    </tr>\n",
       "  </tbody>\n",
       "</table>\n",
       "<p>5 rows × 113 columns</p>\n",
       "</div>"
      ],
      "text/plain": [
       "   ID     1_1_d     1_3_d     1_4_d     1_5_c     2_2_d     2_3_d     2_4_a  \\\n",
       "0   0  0.193596  0.073614 -0.029516  0.242779  0.080216  0.190502  0.148879   \n",
       "1   1  0.421468  0.364783 -0.055167  0.154739  0.366766  0.236360  0.296089   \n",
       "2   2  0.532818 -0.418089  0.524365 -0.087390  0.758338 -0.096036 -1.653630   \n",
       "3   3  0.051546  0.190427  0.376688  0.426257  0.093418  0.280754 -0.140367   \n",
       "4   4  0.132558  0.231792  0.295131  0.469083  0.623783  0.228012 -0.136607   \n",
       "\n",
       "      2_5_d     2_6_d  ...    22_4_d    22_5_d    23_3_d    23_5_d    24_1_d  \\\n",
       "0 -0.006213 -0.001838  ...  0.047797 -0.033840 -0.589592  0.059738  0.176352   \n",
       "1  0.058330  0.011517  ...  0.129272  0.160250  0.425646  0.220291  0.099491   \n",
       "2 -0.244114  0.277910  ... -0.097825  0.172960 -0.210180 -0.075213  0.198422   \n",
       "3  0.276582  0.224290  ... -0.014957 -0.272955 -0.627703  0.091265  0.316825   \n",
       "4  0.027569  0.253613  ...  0.037735 -0.102276  0.254963 -0.103942  0.363442   \n",
       "\n",
       "     25_1_d    25_3_d    25_4_d    26_1_d    26_2_d  \n",
       "0  0.340129  0.045428  0.043563  0.233465  0.056853  \n",
       "1  0.405890  0.040568  0.052593  0.593716  0.168497  \n",
       "2  0.469589  0.222343  0.069883 -0.089867 -0.078562  \n",
       "3  0.369651  0.283274  0.102358  0.078381  0.278953  \n",
       "4 -0.033324 -0.149047  0.212029 -0.014357 -0.072302  \n",
       "\n",
       "[5 rows x 113 columns]"
      ]
     },
     "execution_count": 100,
     "metadata": {},
     "output_type": "execute_result"
    }
   ],
   "source": [
    "print(gExp.columns)\n",
    "print(gExp.index)\n",
    "gExp.head()"
   ]
  },
  {
   "cell_type": "code",
   "execution_count": 101,
   "metadata": {},
   "outputs": [
    {
     "name": "stdout",
     "output_type": "stream",
     "text": [
      "Index(['_probePairKey', '21_5_c', '22_2_d', '19_2_c', '19_3_c', '19_4_b',\n",
      "       '19_5_b', '20_1_d', '20_2_d', '20_3_c',\n",
      "       ...\n",
      "       '9_4_d', '9_5_d', '9_6_d', '9_7_d', '26_2_d', '19_1_c', '21_3_d',\n",
      "       '21_1_d', '15_6_c', '17_1_a'],\n",
      "      dtype='object', length=113)\n",
      "RangeIndex(start=0, stop=2956, step=1)\n"
     ]
    },
    {
     "data": {
      "text/html": [
       "<div>\n",
       "<style scoped>\n",
       "    .dataframe tbody tr th:only-of-type {\n",
       "        vertical-align: middle;\n",
       "    }\n",
       "\n",
       "    .dataframe tbody tr th {\n",
       "        vertical-align: top;\n",
       "    }\n",
       "\n",
       "    .dataframe thead th {\n",
       "        text-align: right;\n",
       "    }\n",
       "</style>\n",
       "<table border=\"1\" class=\"dataframe\">\n",
       "  <thead>\n",
       "    <tr style=\"text-align: right;\">\n",
       "      <th></th>\n",
       "      <th>_probePairKey</th>\n",
       "      <th>21_5_c</th>\n",
       "      <th>22_2_d</th>\n",
       "      <th>19_2_c</th>\n",
       "      <th>19_3_c</th>\n",
       "      <th>19_4_b</th>\n",
       "      <th>19_5_b</th>\n",
       "      <th>20_1_d</th>\n",
       "      <th>20_2_d</th>\n",
       "      <th>20_3_c</th>\n",
       "      <th>...</th>\n",
       "      <th>9_4_d</th>\n",
       "      <th>9_5_d</th>\n",
       "      <th>9_6_d</th>\n",
       "      <th>9_7_d</th>\n",
       "      <th>26_2_d</th>\n",
       "      <th>19_1_c</th>\n",
       "      <th>21_3_d</th>\n",
       "      <th>21_1_d</th>\n",
       "      <th>15_6_c</th>\n",
       "      <th>17_1_a</th>\n",
       "    </tr>\n",
       "  </thead>\n",
       "  <tbody>\n",
       "    <tr>\n",
       "      <th>0</th>\n",
       "      <td>11265_i_at_x01</td>\n",
       "      <td>1</td>\n",
       "      <td>0</td>\n",
       "      <td>0</td>\n",
       "      <td>0</td>\n",
       "      <td>2</td>\n",
       "      <td>1</td>\n",
       "      <td>1</td>\n",
       "      <td>1</td>\n",
       "      <td>1</td>\n",
       "      <td>...</td>\n",
       "      <td>0</td>\n",
       "      <td>1</td>\n",
       "      <td>0</td>\n",
       "      <td>0</td>\n",
       "      <td>1</td>\n",
       "      <td>1</td>\n",
       "      <td>2</td>\n",
       "      <td>0</td>\n",
       "      <td>0</td>\n",
       "      <td>1</td>\n",
       "    </tr>\n",
       "    <tr>\n",
       "      <th>1</th>\n",
       "      <td>11265_i_at_x02</td>\n",
       "      <td>1</td>\n",
       "      <td>0</td>\n",
       "      <td>0</td>\n",
       "      <td>0</td>\n",
       "      <td>2</td>\n",
       "      <td>1</td>\n",
       "      <td>1</td>\n",
       "      <td>1</td>\n",
       "      <td>1</td>\n",
       "      <td>...</td>\n",
       "      <td>0</td>\n",
       "      <td>1</td>\n",
       "      <td>0</td>\n",
       "      <td>0</td>\n",
       "      <td>1</td>\n",
       "      <td>1</td>\n",
       "      <td>2</td>\n",
       "      <td>2</td>\n",
       "      <td>0</td>\n",
       "      <td>1</td>\n",
       "    </tr>\n",
       "    <tr>\n",
       "      <th>2</th>\n",
       "      <td>11276_at_x12</td>\n",
       "      <td>1</td>\n",
       "      <td>0</td>\n",
       "      <td>0</td>\n",
       "      <td>0</td>\n",
       "      <td>0</td>\n",
       "      <td>1</td>\n",
       "      <td>2</td>\n",
       "      <td>1</td>\n",
       "      <td>1</td>\n",
       "      <td>...</td>\n",
       "      <td>0</td>\n",
       "      <td>1</td>\n",
       "      <td>0</td>\n",
       "      <td>0</td>\n",
       "      <td>1</td>\n",
       "      <td>1</td>\n",
       "      <td>0</td>\n",
       "      <td>0</td>\n",
       "      <td>0</td>\n",
       "      <td>1</td>\n",
       "    </tr>\n",
       "    <tr>\n",
       "      <th>3</th>\n",
       "      <td>11276_at_x11</td>\n",
       "      <td>1</td>\n",
       "      <td>0</td>\n",
       "      <td>0</td>\n",
       "      <td>0</td>\n",
       "      <td>0</td>\n",
       "      <td>1</td>\n",
       "      <td>1</td>\n",
       "      <td>1</td>\n",
       "      <td>1</td>\n",
       "      <td>...</td>\n",
       "      <td>0</td>\n",
       "      <td>1</td>\n",
       "      <td>0</td>\n",
       "      <td>0</td>\n",
       "      <td>1</td>\n",
       "      <td>1</td>\n",
       "      <td>0</td>\n",
       "      <td>0</td>\n",
       "      <td>0</td>\n",
       "      <td>1</td>\n",
       "    </tr>\n",
       "    <tr>\n",
       "      <th>4</th>\n",
       "      <td>11276_at_x10</td>\n",
       "      <td>1</td>\n",
       "      <td>0</td>\n",
       "      <td>0</td>\n",
       "      <td>0</td>\n",
       "      <td>0</td>\n",
       "      <td>1</td>\n",
       "      <td>1</td>\n",
       "      <td>1</td>\n",
       "      <td>1</td>\n",
       "      <td>...</td>\n",
       "      <td>0</td>\n",
       "      <td>1</td>\n",
       "      <td>0</td>\n",
       "      <td>0</td>\n",
       "      <td>1</td>\n",
       "      <td>1</td>\n",
       "      <td>0</td>\n",
       "      <td>0</td>\n",
       "      <td>0</td>\n",
       "      <td>1</td>\n",
       "    </tr>\n",
       "  </tbody>\n",
       "</table>\n",
       "<p>5 rows × 113 columns</p>\n",
       "</div>"
      ],
      "text/plain": [
       "    _probePairKey  21_5_c  22_2_d  19_2_c  19_3_c  19_4_b  19_5_b  20_1_d  \\\n",
       "0  11265_i_at_x01       1       0       0       0       2       1       1   \n",
       "1  11265_i_at_x02       1       0       0       0       2       1       1   \n",
       "2    11276_at_x12       1       0       0       0       0       1       2   \n",
       "3    11276_at_x11       1       0       0       0       0       1       1   \n",
       "4    11276_at_x10       1       0       0       0       0       1       1   \n",
       "\n",
       "   20_2_d  20_3_c  ...  9_4_d  9_5_d  9_6_d  9_7_d  26_2_d  19_1_c  21_3_d  \\\n",
       "0       1       1  ...      0      1      0      0       1       1       2   \n",
       "1       1       1  ...      0      1      0      0       1       1       2   \n",
       "2       1       1  ...      0      1      0      0       1       1       0   \n",
       "3       1       1  ...      0      1      0      0       1       1       0   \n",
       "4       1       1  ...      0      1      0      0       1       1       0   \n",
       "\n",
       "   21_1_d  15_6_c  17_1_a  \n",
       "0       0       0       1  \n",
       "1       2       0       1  \n",
       "2       0       0       1  \n",
       "3       0       0       1  \n",
       "4       0       0       1  \n",
       "\n",
       "[5 rows x 113 columns]"
      ]
     },
     "execution_count": 101,
     "metadata": {},
     "output_type": "execute_result"
    }
   ],
   "source": [
    "# gtypes = gtypes[gExp.columns.tolist()]\n",
    "print(gtypes.columns)\n",
    "print(gtypes.index)\n",
    "gtypes.head()"
   ]
  },
  {
   "cell_type": "code",
   "execution_count": null,
   "metadata": {},
   "outputs": [
    {
     "data": {
      "text/plain": [
       "(6609, 114)"
      ]
     },
     "execution_count": 108,
     "metadata": {},
     "output_type": "execute_result"
    }
   ],
   "source": [
    "gExp['nanCount'] = gExp.apply(lambda row:row.isnull().sum(), axis=1)\n",
    "gExpShort = gExp[gExp['nanCount'] < 106]\n",
    "gExpShort.shape"
   ]
  },
  {
   "cell_type": "code",
   "execution_count": 28,
   "metadata": {},
   "outputs": [
    {
     "name": "stdout",
     "output_type": "stream",
     "text": [
      "0\n",
      "(1706, 114)\n"
     ]
    }
   ],
   "source": [
    "print(gExpShort['nanCount'].max())\n",
    "print(gExpShort.shape)"
   ]
  },
  {
   "cell_type": "code",
   "execution_count": 96,
   "metadata": {},
   "outputs": [
    {
     "name": "stdout",
     "output_type": "stream",
     "text": [
      "{'_probePairKey'}\n",
      "{'ID'}\n"
     ]
    }
   ],
   "source": [
    "print(set(gtypes.columns) - set(gExp.columns))\n",
    "print(set(gExp.columns) - set(gtypes.columns))"
   ]
  },
  {
   "cell_type": "markdown",
   "metadata": {},
   "source": [
    "# Import the files\n",
    "\n",
    "- read the matrices\n",
    "- remove the rows with too many missing values\n",
    "- replacing missing values with KNN method\n",
    "- adding a noise to the gene expression dataset\n",
    "- doing a transpose"
   ]
  },
  {
   "cell_type": "code",
   "execution_count": 2,
   "metadata": {},
   "outputs": [
    {
     "name": "stderr",
     "output_type": "stream",
     "text": [
      "/Users/seyedpedramhashemi/venv/lib/python3.6/site-packages/missingpy/knnimpute.py:224: UserWarning: There are rows with more than 50.0% missing values. These rows are not included as donor neighbors.\n",
      "  .format(self.row_max_missing * 100))\n",
      "/Users/seyedpedramhashemi/venv/lib/python3.6/site-packages/missingpy/knnimpute.py:282: UserWarning: There are rows with more than 50.0% missing values. The missing features in these rows are imputed with column means.\n",
      "  .format(self.row_max_missing * 100))\n",
      "/Users/seyedpedramhashemi/venv/lib/python3.6/site-packages/sklearn/utils/validation.py:432: DeprecationWarning: 'warn_on_dtype' is deprecated in version 0.21 and will be removed in 0.23. Don't set `warn_on_dtype` to remove this warning.\n",
      "  DeprecationWarning)\n",
      "/Users/seyedpedramhashemi/venv/lib/python3.6/site-packages/sklearn/utils/validation.py:432: DeprecationWarning: 'warn_on_dtype' is deprecated in version 0.21 and will be removed in 0.23. Don't set `warn_on_dtype` to remove this warning.\n",
      "  DeprecationWarning)\n",
      "/Users/seyedpedramhashemi/venv/lib/python3.6/site-packages/missingpy/utils.py:124: RuntimeWarning: invalid value encountered in sqrt\n",
      "  return distances if squared else np.sqrt(distances, out=distances)\n"
     ]
    }
   ],
   "source": [
    "from modules.Import import reader\n",
    "expressionMatrixFile = 'data/matrix_genotypes.txt'\n",
    "geneExpressionFile = 'data/expression_matrix.txt'\n",
    "expressionMatrix, geneExpressionMatrix = reader(expressionMatrixFile, geneExpressionFile)"
   ]
  },
  {
   "cell_type": "code",
   "execution_count": 8,
   "metadata": {},
   "outputs": [],
   "source": [
    "geneExpressionMatrix.index = range(geneExpressionMatrix.shape[0])"
   ]
  },
  {
   "cell_type": "code",
   "execution_count": 12,
   "metadata": {},
   "outputs": [],
   "source": [
    "from modules.whiteNoise import whiteNoise\n",
    "row = geneExpressionMatrix.shape[0]\n",
    "col = geneExpressionMatrix.shape[1]\n",
    "mu = 0\n",
    "sigma = 1\n",
    "noise = pd.DataFrame(\n",
    "    whiteNoise(row=row, col=col, mu=mu, sigma=sigma),\n",
    "    columns = geneExpressionMatrix.columns\n",
    ")"
   ]
  },
  {
   "cell_type": "code",
   "execution_count": 14,
   "metadata": {},
   "outputs": [],
   "source": [
    "noisyGeneExp = geneExpressionMatrix.add(noise)"
   ]
  },
  {
   "cell_type": "code",
   "execution_count": 29,
   "metadata": {},
   "outputs": [],
   "source": [
    "noisyGeneExpT = noisyGeneExp.transpose()\n",
    "geneExpT = geneExpressionMatrix.transpose()"
   ]
  },
  {
   "cell_type": "markdown",
   "metadata": {},
   "source": [
    "# Adding a simple Autoencoder"
   ]
  },
  {
   "cell_type": "code",
   "execution_count": 32,
   "metadata": {},
   "outputs": [],
   "source": [
    "from keras.models import Model, Sequential\n",
    "from keras.layers import Dense, Dropout\n",
    "from livelossplot import PlotLossesKeras\n",
    "from sklearn.model_selection import train_test_split"
   ]
  },
  {
   "cell_type": "code",
   "execution_count": 33,
   "metadata": {},
   "outputs": [],
   "source": [
    "# train_noisy, test_noisy, train, test = train_test_split(noisyGeneExpT, geneExpT, test_size=0.3)"
   ]
  },
  {
   "cell_type": "code",
   "execution_count": 55,
   "metadata": {},
   "outputs": [
    {
     "data": {
      "image/png": "[encoded data removed]",
      "text/plain": [
       "<Figure size 864x576 with 1 Axes>"
      ]
     },
     "metadata": {
      "needs_background": "light"
     },
     "output_type": "display_data"
    },
    {
     "name": "stdout",
     "output_type": "stream",
     "text": [
      "Mean squared error (cost function):\n",
      "training   (min:    0.210, max:    1.294, cur:    0.210)\n"
     ]
    },
    {
     "data": {
      "text/plain": [
       "<keras.callbacks.History at 0x168ec4a20>"
      ]
     },
     "execution_count": 55,
     "metadata": {},
     "output_type": "execute_result"
    }
   ],
   "source": [
    "dim = noisyGeneExpT.shape[1]\n",
    "autoencoder = Sequential()\n",
    "autoencoder.add(Dense(units=(dim - 100), input_dim=dim, activation='relu'))\n",
    "autoencoder.add(Dropout(0.5))\n",
    "autoencoder.add(Dense(units=(dim - 200), activation='relu'))\n",
    "autoencoder.add(Dropout(0.5))\n",
    "autoencoder.add(Dense(units=(dim - 300), activation='relu'))\n",
    "autoencoder.add(Dropout(.5))\n",
    "autoencoder.add(Dense(units=(dim - 400), activation='relu'))\n",
    "autoencoder.add(Dropout(0.5))\n",
    "autoencoder.add(Dense(units=(dim - 300), activation='relu'))\n",
    "autoencoder.add(Dropout(0.5))\n",
    "autoencoder.add(Dense(units=(dim - 200), activation='relu'))\n",
    "autoencoder.add(Dropout(.5))\n",
    "autoencoder.add(Dense(units=(dim - 100), activation='relu'))\n",
    "autoencoder.add(Dropout(.5))\n",
    "autoencoder.add(Dense(units=(dim)))\n",
    "autoencoder.compile(loss='mean_squared_error', optimizer='adam')\n",
    "autoencoder.fit(\n",
    "    train_noisy,\n",
    "    train,\n",
    "    epochs=50,\n",
    "    batch_size=32,\n",
    "    callbacks=[PlotLossesKeras()],\n",
    "    verbose=1)"
   ]
  },
  {
   "cell_type": "code",
   "execution_count": 84,
   "metadata": {},
   "outputs": [],
   "source": [
    "sAutoencoder = Sequential()\n",
    "stack1 = autoencoder.layers[0:8]\n",
    "for layer in stack1:\n",
    "    layer.trainable = False\n",
    "    sAutoencoder.add(layer)"
   ]
  },
  {
   "cell_type": "code",
   "execution_count": 85,
   "metadata": {},
   "outputs": [
    {
     "data": {
      "image/png": "[encoded data removed]",
      "text/plain": [
       "<Figure size 864x576 with 1 Axes>"
      ]
     },
     "metadata": {
      "needs_background": "light"
     },
     "output_type": "display_data"
    },
    {
     "name": "stdout",
     "output_type": "stream",
     "text": [
      "Mean squared error (cost function):\n",
      "training   (min:    0.202, max:    0.216, cur:    0.205)\n"
     ]
    },
    {
     "data": {
      "text/plain": [
       "<keras.callbacks.History at 0x70ff7c198>"
      ]
     },
     "execution_count": 85,
     "metadata": {},
     "output_type": "execute_result"
    }
   ],
   "source": [
    "sAutoencoder.add(Dense(dim - 500, activation='relu'))\n",
    "sAutoencoder.add(Dropout(.5))\n",
    "sAutoencoder.add(Dense(dim - 600, activation='relu'))\n",
    "sAutoencoder.add(Dropout(.5))\n",
    "sAutoencoder.add(Dense(dim - 700, activation='relu'))\n",
    "sAutoencoder.add(Dropout(.5))\n",
    "sAutoencoder.add(Dense(dim - 600, activation='relu'))\n",
    "sAutoencoder.add(Dropout(.5))\n",
    "sAutoencoder.add(Dense(dim - 500, activation='relu'))\n",
    "sAutoencoder.add(Dropout(.5))\n",
    "sAutoencoder.add(Dense(dim - 400, activation='relu'))\n",
    "sAutoencoder.add(Dropout(.5))\n",
    "sAutoencoder.add(Dense(dim - 300, activation='relu'))\n",
    "sAutoencoder.add(Dropout(.5))\n",
    "sAutoencoder.add(Dense(dim - 200, activation='relu'))\n",
    "sAutoencoder.add(Dropout(.5))\n",
    "sAutoencoder.add(Dense(dim - 100, activation='relu'))\n",
    "sAutoencoder.add(Dropout(.5))\n",
    "sAutoencoder.add(Dense(dim))\n",
    "autoencoder.compile(loss='mean_squared_error', optimizer='adam')\n",
    "autoencoder.fit(\n",
    "    train_noisy,\n",
    "    train,\n",
    "    epochs=100,\n",
    "    batch_size=32,\n",
    "    callbacks=[PlotLossesKeras()],\n",
    "    verbose=1)"
   ]
  },
  {
   "cell_type": "code",
   "execution_count": 86,
   "metadata": {},
   "outputs": [
    {
     "name": "stdout",
     "output_type": "stream",
     "text": [
      "6609\n"
     ]
    }
   ],
   "source": [
    "print(dim)"
   ]
  },
  {
   "cell_type": "code",
   "execution_count": null,
   "metadata": {},
   "outputs": [],
   "source": []
  }
 ],
 "metadata": {
  "kernelspec": {
   "display_name": "Python 3",
   "language": "python",
   "name": "python3"
  },
  "language_info": {
   "codemirror_mode": {
    "name": "ipython",
    "version": 3
   },
   "file_extension": ".py",
   "mimetype": "text/x-python",
   "name": "python",
   "nbconvert_exporter": "python",
   "pygments_lexer": "ipython3",
   "version": "3.6.5"
  }
 },
 "nbformat": 4,
 "nbformat_minor": 1
}
